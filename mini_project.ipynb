{
 "cells": [
  {
   "cell_type": "markdown",
   "metadata": {},
   "source": [
    "## Mini Project: Option Pricing\n",
    "### 1. DP algorithm\n",
    "Consider the simplest binary tree process of the stock price:\n",
    "$$\n",
    "s _ { t + 1 } = \\left\\{ \\begin{array} { l l } { ( 1 + r ) s _ { t } } & { \\text { with probability } p } \\\\ { s _ { t } / ( 1 + r ) } & { \\text { with probability } 1 - p } \\end{array} \\right.\n",
    "$$"
   ]
  },
  {
   "cell_type": "code",
   "execution_count": 3,
   "metadata": {},
   "outputs": [
    {
     "name": "stdout",
     "output_type": "stream",
     "text": [
      "Value of an American Put: \n",
      "0.17134658245153428\n"
     ]
    },
    {
     "data": {
      "image/png": "[encoded data removed]",
      "text/plain": [
       "<Figure size 432x288 with 1 Axes>"
      ]
     },
     "metadata": {},
     "output_type": "display_data"
    }
   ],
   "source": [
    "import matplotlib.pyplot as plt\n",
    "from typing import Tuple\n",
    "import numpy as np\n",
    "\n",
    "def AmericanPut(T: int, p:float, r: float, X: float, s0: float) -> Tuple[float, np.array]:\n",
    "    price_mat = np.zeros((T+1, T+1))\n",
    "    for i in np.arange(T+1):\n",
    "        price_mat[:(i+1), i] = (1 + r)**(-i + 2*np.arange(i+1))\n",
    "    price_mat = price_mat*s0\n",
    "    cashflow_mat = X - price_mat\n",
    "    cashflow_mat = cashflow_mat*(cashflow_mat > 0)\n",
    "    \n",
    "    val_mat = cashflow_mat.copy()\n",
    "    action_mat = np.zeros(val_mat.shape)\n",
    "    for i in reversed(np.arange(T)):\n",
    "        tmp1 = val_mat[:(i+2),i+1].copy()\n",
    "        tmp0 = val_mat[:(i+1),i].copy()\n",
    "        tmp3 = (1 - p)*tmp1[:-1] + p*tmp1[1:]\n",
    "        tmp = np.concatenate((tmp3.reshape(len(tmp3),1), tmp0.reshape(len(tmp0),1)),1 )\n",
    "        action_mat[:(i+1),i] = np.apply_along_axis(np.argmax, 1, tmp)\n",
    "        val_mat[:(i+1),i] = np.apply_along_axis(max, 1, tmp)\n",
    "    \n",
    "    max_price_seq = np.zeros(T+1)\n",
    "    max_price_loc = sum(action_mat) - 1\n",
    "    for i in np.arange(T+1):\n",
    "        if max_price_loc[i] == -1:\n",
    "            max_price_seq[i] = -1\n",
    "        else:\n",
    "            max_price_seq[i] = price_mat[int(max_price_loc[i]),i]\n",
    "            \n",
    "    return val_mat[0,0], max_price_seq\n",
    "\n",
    "put, max_price_seq = AmericanPut(20, 0.5, 0.01, 10, 10)\n",
    "print('Value of an American Put: ')\n",
    "print(put)\n",
    "start = len(max_price_seq[:-1][max_price_seq[:-1]==-1])\n",
    "end = 19\n",
    "x_axis = np.linspace(start, end, end - start +1)\n",
    "price = max_price_seq[max_price_seq>0]\n",
    "plt.plot(x_axis, price)\n",
    "plt.title('The maximum price to execuate the put option')\n",
    "plt.ylabel('max price')\n",
    "plt.xlabel('time')\n",
    "plt.show()"
   ]
  },
  {
   "cell_type": "markdown",
   "metadata": {},
   "source": [
    "### 2. Policy Iteration and Value Iteration"
   ]
  },
  {
   "cell_type": "code",
   "execution_count": 9,
   "metadata": {},
   "outputs": [
    {
     "name": "stdout",
     "output_type": "stream",
     "text": [
      "Number of iterations: 9.\n",
      "Value of an American Put by policy iteration: \n",
      "0.17134658245153428\n",
      "Number of iterations: 20.\n",
      "Value of an American Put by value iteration: \n",
      "0.17134658245153428\n"
     ]
    }
   ],
   "source": [
    "from src.mdp_refined import MDPRefined\n",
    "\n",
    "def cashflow(x):\n",
    "    if x >= 0:\n",
    "        return x\n",
    "    else:\n",
    "        return 0\n",
    "\n",
    "# Generate mdp\n",
    "T = 20\n",
    "r = 0.01\n",
    "p0 = 10.0\n",
    "x = 10.0\n",
    "prob = 0.5\n",
    "state = [((1.0+r)**(2.0*i-t)*p0,t) for t in range(1, T+1) for i in range(t+1)]\n",
    "inf = {s: {1: {'Terminal': (1.0, x - s[0])}, 0: {(round(s[0]*(1+r),10), s[1]+1): (prob, 0.0), \\\n",
    "         (round(s[0]/(1.0+r),10), s[1]+1): (1.0-prob,0.0)} } if s[1] <= T-1 else \\\n",
    "     {1: {'Terminal': (1.0, cashflow(x - s[0]))}} for s in state}\n",
    "state = [(round(s[0],10),s[1]) for s in state]\n",
    "inf = {(round(s[0],10), s[1]): v for s,v in inf.items()}\n",
    "state.append('Terminal')\n",
    "inf['Terminal'] = {1: {'Terminal': (1.0, 0.0)}, 0: {'Terminal': (1.0, 0.0)}}\n",
    "\n",
    "gamma = 1\n",
    "mdp = MDPRefined(inf,gamma)\n",
    "# Generate policy data\n",
    "policy_data = {s: {1: 0.6, 0: 0.4} if s[0] < 10 else {0: 0.6, 1: 0.4} for s in mdp.nt_states_list if s[1]<T}\n",
    "policy_data['Terminal'] = {1: 0.5, 0: 0.5}\n",
    "for s in state:\n",
    "    if s[1] == T:\n",
    "        policy_data[s] = {1: 1.0}\n",
    "\n",
    "pol_opt, val_opt = mdp.policy_iteration(policy_data)\n",
    "val_list = [(k, v) for k,v in val_opt.items()]\n",
    "print('Value of an American Put by policy iteration: ')\n",
    "print((val_list[0][1]+ val_list[1][1])/2)\n",
    "pol_opt, val_opt = mdp.value_iteration()\n",
    "print('Value of an American Put by value iteration: ')\n",
    "print((val_list[0][1]+ val_list[1][1])/2)"
   ]
  },
  {
   "cell_type": "markdown",
   "metadata": {},
   "source": [
    "### 3. RL model free control"
   ]
  },
  {
   "cell_type": "code",
   "execution_count": 18,
   "metadata": {},
   "outputs": [
    {
     "name": "stdout",
     "output_type": "stream",
     "text": [
      "Value-action function estimates with Sarsa\n",
      "0.04076241927927919\n"
     ]
    }
   ],
   "source": [
    "from src.td0_control import TD0_control\n",
    "\n",
    "gamma_val = 0.9\n",
    "mdp_ref_obj1 = MDPRefined(inf, gamma_val)\n",
    "mdp_rep_obj = mdp_ref_obj1.get_mdp_rep_for_rl_tabular()\n",
    "epsilon_val = 0.1\n",
    "epsilon_half_life_val = 100\n",
    "learning_rate_val = 0.1\n",
    "learning_rate_decay_val = 1e6\n",
    "episodes_limit = 5000\n",
    "max_steps_val = 1000\n",
    "\n",
    "sarsa = TD0_control(\n",
    "        mdp_rep_obj,\n",
    "        epsilon_val,\n",
    "        epsilon_half_life_val,\n",
    "        learning_rate_val,\n",
    "        learning_rate_decay_val,\n",
    "        episodes_limit,\n",
    "        max_steps_val,\n",
    "        'Sarsa'\n",
    "    )\n",
    "print(\"Value-action function estimates with Sarsa\")\n",
    "qv_sarsa = sarsa.get_qv_func_dict()\n",
    "qv_list = [v for k,v in qv_sarsa.items()]\n",
    "print((qv_list[0][1] + qv_list[0][0])/2)"
   ]
  },
  {
   "cell_type": "code",
   "execution_count": 19,
   "metadata": {},
   "outputs": [
    {
     "name": "stdout",
     "output_type": "stream",
     "text": [
      "Value-action function estimates with Q-learning\n",
      "0.03428812384264077\n"
     ]
    }
   ],
   "source": [
    "qlearning = TD0_control(\n",
    "        mdp_rep_obj,\n",
    "        epsilon_val,\n",
    "        epsilon_half_life_val,\n",
    "        learning_rate_val,\n",
    "        learning_rate_decay_val,\n",
    "        episodes_limit,\n",
    "        max_steps_val,\n",
    "        'Q-learning'\n",
    "    )\n",
    "\n",
    "print(\"Value-action function estimates with Q-learning\")\n",
    "qv_qlearn = qlearning.get_qv_func_dict()\n",
    "qv_list = [v for k,v in qv_qlearn.items()]\n",
    "print((qv_list[0][1] + qv_list[0][0])/2)"
   ]
  },
  {
   "cell_type": "code",
   "execution_count": null,
   "metadata": {},
   "outputs": [],
   "source": []
  }
 ],
 "metadata": {
  "kernelspec": {
   "display_name": "Python 3",
   "language": "python",
   "name": "python3"
  },
  "language_info": {
   "codemirror_mode": {
    "name": "ipython",
    "version": 3
   },
   "file_extension": ".py",
   "mimetype": "text/x-python",
   "name": "python",
   "nbconvert_exporter": "python",
   "pygments_lexer": "ipython3",
   "version": "3.6.5"
  }
 },
 "nbformat": 4,
 "nbformat_minor": 2
}
