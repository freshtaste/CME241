{
 "cells": [
  {
   "cell_type": "markdown",
   "metadata": {},
   "source": [
    "## Homework 7: Application Problem 3 - Optimal Trade Order Execution\n",
    "### Optimal Trade Order Execution Problem\n",
    "\n",
    "(1) Observe State $: = \\left( t , P _ { t } , R _ { t } \\right)$\n",
    "\n",
    "(2) Perform Action $: = N _ { t }$\n",
    "\n",
    "(3) Receive Reward $: = U \\left( N _ { t } \\cdot Q _ { t } \\right) = U \\left( N _ { t } \\cdot \\left( P _ { t } - g _ { t } \\left( P _ { t } , N _ { t } \\right) \\right) \\right)$\n",
    "\n",
    "(4) Experience Price Dynamics $P _ { t + 1 } = f _ { t } \\left( P _ { t } , N _ { t } , \\epsilon _ { t } \\right)$\n",
    "\n",
    "(5) Goal is to find a Policy $\\pi ^ { \\star } \\left( t , P _ { t } , R _ { t } \\right) = N _ { t }$ that maximizes:\n",
    "$$\n",
    "\\mathbb { E } \\left[ \\sum _ { t = 1 } ^ { T } \\gamma ^ { t } \\cdot U \\left( N _ { t } \\cdot Q _ { t } \\right) \\right] \\text { where } \\gamma \\text { is MDP discount factor }\n",
    "$$"
   ]
  },
  {
   "cell_type": "markdown",
   "metadata": {},
   "source": [
    "### Linear Impact Model with No Risk-Aversion\n",
    "**1. Model Setup**\n",
    "\n",
    "(1) Price Dynamics: $P _ { t + 1 } = P _ { t } - \\alpha N _ { t } + \\epsilon _ { t } \\text { where } \\alpha \\in \\mathbb { R } ^ { + }$ and $\\epsilon _ { t }$ is i.i.d. with $\\mathbb { E } \\left[ \\epsilon _ { t } | N _ { t } , P _ { t } \\right] = 0$\n",
    "\n",
    "(2) Temporary Price Impact given by: $\\beta N _ { t }$, so $Q _ { t } = P _ { t } - \\beta N _ { t } \\left( \\beta \\in \\mathbb { R } ^ { + } \\right)$\n",
    "\n",
    "(3) Utility function $U(⋅)$ is the identity function\n",
    "\n",
    "(4) MDP Discount factor $\\gamma = 1$\n",
    "\n",
    "**2. Solve the Model**\n",
    "\n",
    "(1) Bellman's Equation:\n",
    "$$V ^ { * } \\left( t , P _ { t } , R _ { t } \\right) = \\max _ { N _ { t } } \\left( N _ { t } \\left( P _ { t } - \\beta N _ { t } \\right) + \\mathbb { E } \\left[ V ^ { * } \\left( t + 1 , P _ { t + 1 } , R _ { t + 1 } \\right) \\right] \\right)$$\n",
    "(2) Terminal Condition:\n",
    "$$\n",
    "V ^ { * } \\left( T , P _ { T } , R _ { T } \\right) = R _ { T } \\left( P _ { T } - \\beta R _ { T } \\right)\n",
    "$$\n",
    "(3) Solve the objective and optimal action for time period $T-1$:\n",
    "$$\n",
    "\\begin{array} { c } { V ^ { * } \\left( T - 1 , P _ { T - 1 } , R _ { T - 1 } \\right)= \\max _ { N _ { T - 1 } } \\left\\{ N _ { T - 1 } \\left( P _ { T - 1 } - \\beta N _ { T - 1 } \\right) + \\mathbb { E } \\left[ R _ { T } \\left( P _ { T } - \\beta R _ { T } \\right) \\right] \\right\\} } \\\\ { = \\max _ { N _ { T - 1 } } \\left\\{ N _ { T - 1 } \\left( P _ { T - 1 } - \\beta N _ { T - 1 } \\right) + \\mathbb { E } \\left[ \\left( R _ { T - 1 } - N _ { T - 1 } \\right) \\left( P _ { T } - \\beta \\left( R _ { T - 1 } - N _ { T - 1 } \\right) \\right) \\right\\} \\right. } \\\\ { = \\max _ { N _ { T - 1 } } \\left\\{ N _ { T - 1 } \\left( P _ { T - 1 } - \\beta N _ { T - 1 } \\right) + \\left( R _ { T - 1 } - N _ { T - 1 } \\right) \\left( P _ { T - 1 } - \\alpha N _ { T - 1 } - \\beta \\left( R _ { T - 1 } - N _ { T - 1 } \\right) \\right) \\right) } \\end{array}\n",
    "$$\n",
    "(4) Differentiating this expression w.r.t. $N _ { T - 1 }$ and setting to 0 gives:\n",
    "$$2 N _ { T - 1 } ^ { \\star } ( \\alpha - 2 \\beta ) - R _ { T - 1 } ( \\alpha - 2 \\beta ) = 0 \\Rightarrow N _ { T - 1 } ^ { \\star } = \\frac { R _ { T - 1 } } { 2 }$$\n",
    "$$\n",
    "V ^ { * } \\left( T - 1 , P _ { T - 1 } , R _ { T - 1 } \\right) = R _ { T - 1 } P _ { T - 1 } - R _ { T - 1 } ^ { 2 } \\left( \\frac { \\alpha + 2 \\beta } { 4 } \\right)\n",
    "$$\n",
    "(5) Continuing backwards in time in this manner gives:\n",
    "$$\n",
    "\\begin{array} { c } { N _ { t } ^ { * } = \\frac { R _ { t } } { T - t + 1 } } \\\\ { V ^ { * } \\left( t , P _ { t } , R _ { t } \\right) = R _ { t } P _ { t } - \\frac { R _ { t } ^ { 2 } } { 2 } \\left( \\frac { 2 \\beta + ( T - t ) \\alpha } { T - t + 1 } \\right) } \\end{array}\n",
    "$$"
   ]
  },
  {
   "cell_type": "code",
   "execution_count": null,
   "metadata": {},
   "outputs": [],
   "source": []
  }
 ],
 "metadata": {
  "kernelspec": {
   "display_name": "Python 3",
   "language": "python",
   "name": "python3"
  },
  "language_info": {
   "codemirror_mode": {
    "name": "ipython",
    "version": 3
   },
   "file_extension": ".py",
   "mimetype": "text/x-python",
   "name": "python",
   "nbconvert_exporter": "python",
   "pygments_lexer": "ipython3",
   "version": "3.6.5"
  }
 },
 "nbformat": 4,
 "nbformat_minor": 2
}
