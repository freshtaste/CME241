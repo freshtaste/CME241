{
 "cells": [
  {
   "cell_type": "markdown",
   "metadata": {},
   "source": [
    "## Homework 9: Model-free (RL) Prediction with Eligibility Traces (TD(Lambda))\n",
    "### 1. Implement Forward-View TD(Lambda) algorithm for Value Function Prediction\n",
    "$$\n",
    "G_{t}^{(n)}=R_{t+1}+\\gamma R_{t+2}+\\ldots+\\gamma^{n-1} R_{t+n}+\\gamma^{n} V\\left(S_{t+n}\\right)\n",
    "$$\n",
    "$$\n",
    "G_{t}^{\\lambda}=(1-\\lambda) \\sum_{n=1}^{\\infty} \\lambda^{n-1} G_{t}^{(n)}\n",
    "$$\n",
    "$$\n",
    "V\\left(S_{t}\\right) \\leftarrow V\\left(S_{t}\\right)+\\alpha\\left(G_{t}^{\\lambda}-V\\left(S_{t}\\right)\\right)\n",
    "$$"
   ]
  },
  {
   "cell_type": "code",
   "execution_count": 7,
   "metadata": {},
   "outputs": [
    {
     "name": "stdout",
     "output_type": "stream",
     "text": [
      "Value function estimates with forward TD-lambd\n",
      "{1: 10.801185840387696, 2: 18.39571663204502, 3: 0.0}\n"
     ]
    }
   ],
   "source": [
    "from src.tdlambda import TDLambda\n",
    "from src.mdp_refined import MDPRefined\n",
    "\n",
    "mdp_refined_data = {\n",
    "        1: {\n",
    "            'a': {1: (0.3, 9.2), 2: (0.6, 4.5), 3: (0.1, 5.0)},\n",
    "            'b': {2: (0.3, -0.5), 3: (0.7, 2.6)},\n",
    "            'c': {1: (0.2, 4.8), 2: (0.4, -4.9), 3: (0.4, 0.0)}\n",
    "        },\n",
    "        2: {\n",
    "            'a': {1: (0.3, 9.8), 2: (0.6, 6.7), 3: (0.1, 1.8)},\n",
    "            'c': {1: (0.2, 4.8), 2: (0.4, 9.2), 3: (0.4, -8.2)}\n",
    "        },\n",
    "        3: {\n",
    "            'a': {3: (1.0, 0.0)},\n",
    "            'b': {3: (1.0, 0.0)}\n",
    "        }\n",
    "    }\n",
    "gamma_val = 0.9\n",
    "mdp_ref_obj1 = MDPRefined(mdp_refined_data, gamma_val)\n",
    "mdp_rep_obj = mdp_ref_obj1.get_mdp_rep_for_rl_tabular()\n",
    "epsilon_val = 0.1\n",
    "epsilon_half_life_val = 100\n",
    "learning_rate_val = 0.1\n",
    "learning_rate_decay_val = 1e6\n",
    "lambda_val = 0.5\n",
    "episodes_limit = 1000\n",
    "max_steps_val = 1000\n",
    "esl_obj = TDLambda(\n",
    "        mdp_rep_obj,\n",
    "        epsilon_val,\n",
    "        epsilon_half_life_val,\n",
    "        learning_rate_val,\n",
    "        learning_rate_decay_val,\n",
    "        lambda_val,\n",
    "        episodes_limit,\n",
    "        max_steps_val\n",
    "    )\n",
    "\n",
    "policy_data = {\n",
    "        1: {'a': 0.4, 'b': 0.6},\n",
    "        2: {'a': 0.7, 'c': 0.3},\n",
    "        3: {'b': 1.0}\n",
    "    }\n",
    "\n",
    "\n",
    "print(\"Value function estimates with forward TD-lambd\")\n",
    "print(esl_obj.forward_value_func(policy_data))"
   ]
  },
  {
   "cell_type": "markdown",
   "metadata": {},
   "source": [
    "### 2. Implement Backward View TD(Lambda)\n",
    "$$\n",
    "E_{t}(s)=\\gamma \\lambda E_{t-1}(s)+\\mathbf{1}\\left(S_{t}=s\\right)\n",
    "$$\n",
    "$$\n",
    "V(s) \\leftarrow V(s)+\\alpha \\delta_{t} E_{t}(s)\n",
    "$$"
   ]
  },
  {
   "cell_type": "code",
   "execution_count": 11,
   "metadata": {},
   "outputs": [
    {
     "name": "stdout",
     "output_type": "stream",
     "text": [
      "Value function estimates with backward TD-lambd\n",
      "{1: 9.175001562063924, 2: 17.10175611937374, 3: 0.0}\n"
     ]
    }
   ],
   "source": [
    "print(\"Value function estimates with backward TD-lambd\")\n",
    "print(esl_obj.backward_value_func(policy_data))"
   ]
  },
  {
   "cell_type": "markdown",
   "metadata": {},
   "source": [
    "### 3. Test it against DP policy evaluation"
   ]
  },
  {
   "cell_type": "code",
   "execution_count": 13,
   "metadata": {},
   "outputs": [
    {
     "name": "stdout",
     "output_type": "stream",
     "text": [
      "Policy Evaluation: \n",
      "{1: 10.320570378088227, 2: 15.396689886917194}\n"
     ]
    }
   ],
   "source": [
    "val_dp = mdp_ref_obj1.policy_evaluation(policy_data)\n",
    "print(\"Policy Evaluation: \")\n",
    "print(val_dp)"
   ]
  },
  {
   "cell_type": "markdown",
   "metadata": {},
   "source": [
    "### 4. Plot their accuracy as a function of Lambda"
   ]
  },
  {
   "cell_type": "code",
   "execution_count": 24,
   "metadata": {},
   "outputs": [
    {
     "name": "stdout",
     "output_type": "stream",
     "text": [
      "Processing...\n",
      "Finish 0.1 percent\n",
      "Finish 0.2 percent\n",
      "Finish 0.3 percent\n",
      "Finish 0.4 percent\n",
      "Finish 0.5 percent\n",
      "Finish 0.6 percent\n",
      "Finish 0.7 percent\n",
      "Finish 0.8 percent\n",
      "Finish 0.9 percent\n",
      "Finish 1.0 percent\n"
     ]
    },
    {
     "data": {
      "image/png": "[encoded data removed]",
      "text/plain": [
       "<Figure size 432x288 with 1 Axes>"
      ]
     },
     "metadata": {},
     "output_type": "display_data"
    }
   ],
   "source": [
    "import numpy as np\n",
    "import matplotlib.pyplot as plt\n",
    "\n",
    "lambda_list = np.linspace(0,1,50)\n",
    "acc = []\n",
    "print('Processing...')\n",
    "for t, lambda_val in enumerate(lambda_list):\n",
    "    esl_obj = TDLambda(\n",
    "        mdp_rep_obj,\n",
    "        epsilon_val,\n",
    "        epsilon_half_life_val,\n",
    "        learning_rate_val,\n",
    "        learning_rate_decay_val,\n",
    "        lambda_val,\n",
    "        episodes_limit,\n",
    "        max_steps_val\n",
    "    )\n",
    "    val = {1:0, 2:0, 3:0}\n",
    "    for i in range(20):\n",
    "        val_sim =  esl_obj.backward_value_func(policy_data)\n",
    "        for k,v in val_sim.items():\n",
    "            val[k] += v\n",
    "    val = {k: v/20 for k,v in val.items()}\n",
    "    acc.append(sum([np.abs(v - val_dp[s]) for s,v in val.items() if s < 3]))\n",
    "    if (t+1) % 5 == 0:\n",
    "        print(\"Finish {} percent\".format((t+1)/50))\n",
    "\n",
    "plt.plot(lambda_list, acc)\n",
    "plt.xlabel('lambda value')\n",
    "plt.ylabel('accuracy')\n",
    "plt.show()"
   ]
  },
  {
   "cell_type": "code",
   "execution_count": null,
   "metadata": {},
   "outputs": [],
   "source": []
  }
 ],
 "metadata": {
  "kernelspec": {
   "display_name": "Python 3",
   "language": "python",
   "name": "python3"
  },
  "language_info": {
   "codemirror_mode": {
    "name": "ipython",
    "version": 3
   },
   "file_extension": ".py",
   "mimetype": "text/x-python",
   "name": "python",
   "nbconvert_exporter": "python",
   "pygments_lexer": "ipython3",
   "version": "3.6.5"
  }
 },
 "nbformat": 4,
 "nbformat_minor": 2
}
