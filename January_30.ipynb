{
 "cells": [
  {
   "cell_type": "markdown",
   "metadata": {},
   "source": [
    "## Homework 6: Application Problem 2 - Optimal Exercise of American Options\n",
    "### Black-Scholes formulas for European Call/Put Pricing\n",
    "The Black-Shcoles formlas is given as:\n",
    "$$\n",
    "\\begin{aligned} C ( S , t ) & = S _ { t } \\Phi \\left( d _ { 1 } \\right) - e ^ { - r ( T - t ) } K \\Phi \\left( d _ { 2 } \\right) \\\\ \\text { where } d _ { 1 } & = \\frac { \\log \\left( \\frac { S _ { t } } { K } \\right) + \\left( r + \\sigma ^ { 2 } / 2 \\right) ( T - t ) } { \\sigma \\sqrt { T - t } } \\\\ \\text { and } d _ { 2 } & = d _ { 1 } - \\sigma \\sqrt { T - t } \\end{aligned}\n",
    "$$"
   ]
  },
  {
   "cell_type": "code",
   "execution_count": 1,
   "metadata": {},
   "outputs": [],
   "source": [
    "from typing import Tuple\n",
    "import numpy as np\n",
    "from scipy.stats import norm\n",
    "\n",
    "class option:\n",
    "    def __init__(self, s: float, k: float, r: float, T: int, t: int, mu: float, sigma: float) -> None:\n",
    "        self.s = s\n",
    "        self.k = k\n",
    "        self.r = r\n",
    "        self.T = T\n",
    "        self.t = t\n",
    "        self.mu = mu\n",
    "        self.sigma = sigma\n",
    "        self.d1, self.d2 = get_d1_d2()\n",
    "        \n",
    "    def get_d1_d2(self) -> Tuple[float, float]:\n",
    "        d1 = (np.log(self.s / self.k) + (self.r + 0.5 * self.sigma ** 2) * (self.T-self.t)) / (self.sigma * np.sqrt(self.T-self.t))\n",
    "        d2 = d1 - self.sigma * np.sqrt(self.T - self.t) \n",
    "        return d1, d2\n",
    "        \n",
    "    def call(self) -> float:\n",
    "        return (self.s * norm.cdf(self.d1, 0, 1) - self.k * np.exp(-self.r * (self.T-self.t)) * norm.cdf(self.d2, 0, 1))\n",
    "        \n",
    "    def put(self) -> float:\n",
    "        return (self.k * np.exp(-self.r * (self.T-self.t)) * norm.cdf(-self.d2, 0, 1) - self.s * norm.cdf(-self.d1, 0, 1))\n",
    "        "
   ]
  },
  {
   "cell_type": "markdown",
   "metadata": {},
   "source": [
    "### Standard binary tree/grid-based numerical algorithm for American Option  "
   ]
  },
  {
   "cell_type": "markdown",
   "metadata": {},
   "source": [
    "Consider the following definition of binary tree:\n",
    "$$\n",
    "s _ { t + 1 } = \\left\\{ \\begin{array} { l l } { ( 1 + r ) s _ { t } } & { \\text { with probability } p } \\\\ { s _ { t } / ( 1 + r ) } & { \\text { with probability } 1 - p } \\end{array} \\right.\n",
    "$$"
   ]
  },
  {
   "cell_type": "code",
   "execution_count": 11,
   "metadata": {},
   "outputs": [
    {
     "name": "stdout",
     "output_type": "stream",
     "text": [
      "Value of an American Put: \n",
      "0.3757095164821912\n"
     ]
    },
    {
     "data": {
      "image/png": "[encoded data removed]",
      "text/plain": [
       "<Figure size 432x288 with 1 Axes>"
      ]
     },
     "metadata": {},
     "output_type": "display_data"
    }
   ],
   "source": [
    "import matplotlib.pyplot as plt\n",
    "\n",
    "def AmericanPut(T: int, p:float, r: float, X: float, s0: float) -> Tuple[float, np.array]:\n",
    "    price_mat = np.zeros((T+1, T+1))\n",
    "    for i in np.arange(T+1):\n",
    "        price_mat[:(i+1), i] = (1 + r)**(-i + 2*np.arange(i+1))\n",
    "    price_mat = price_mat*s0\n",
    "    cashflow_mat = X - price_mat\n",
    "    cashflow_mat = cashflow_mat*(cashflow_mat > 0)\n",
    "    \n",
    "    val_mat = cashflow_mat.copy()\n",
    "    action_mat = np.zeros(val_mat.shape)\n",
    "    for i in reversed(np.arange(T)):\n",
    "        tmp1 = val_mat[:(i+2),i+1].copy()\n",
    "        tmp0 = val_mat[:(i+1),i].copy()\n",
    "        tmp3 = (1 - p)*tmp1[:-1] + p*tmp1[1:]\n",
    "        tmp = np.concatenate((tmp3.reshape(len(tmp3),1), tmp0.reshape(len(tmp0),1)),1 )\n",
    "        action_mat[:(i+1),i] = np.apply_along_axis(np.argmax, 1, tmp)\n",
    "        val_mat[:(i+1),i] = np.apply_along_axis(max, 1, tmp)\n",
    "    \n",
    "    max_price_seq = np.zeros(T+1)\n",
    "    max_price_loc = sum(action_mat) - 1\n",
    "    for i in np.arange(T+1):\n",
    "        if max_price_loc[i] == -1:\n",
    "            max_price_seq[i] = -1\n",
    "        else:\n",
    "            max_price_seq[i] = price_mat[int(max_price_loc[i]),i]\n",
    "            \n",
    "    return val_mat[0,0], max_price_seq\n",
    "\n",
    "put, max_price_seq = AmericanPut(100, 0.5, 0.01, 10, 10)\n",
    "print('Value of an American Put: ')\n",
    "print(put)\n",
    "start = len(max_price_seq[:-1][max_price_seq[:-1]==-1])\n",
    "end = 99\n",
    "x_axis = np.linspace(start, end, end - start +1)\n",
    "price = max_price_seq[max_price_seq>0]\n",
    "plt.plot(x_axis, price)\n",
    "plt.title('The maximum price to execuate the put option')\n",
    "plt.ylabel('max price')\n",
    "plt.xlabel('time')\n",
    "plt.show()"
   ]
  },
  {
   "cell_type": "code",
   "execution_count": 17,
   "metadata": {},
   "outputs": [],
   "source": [
    "from typing import Callable\n",
    "\n",
    "def LongstaffSchwartz(SP: np.ndarray, Payoff: Callable[[Tuple[int, np.ndarray]], float], \\\n",
    "                      t: Callable[[int], float], r: Callable[[int], float], phi: Callable[[Tuple[int, np.ndarray]],list]):\n",
    "    m = SP.shape[0] \n",
    "    n = SP.shape[1] - 1\n",
    "    CF = np.array([Payoff((t(n), SP[i, :(n+1)])) for i in range(m)])\n",
    "    for j in reversed(np.arange(n-1)+1):\n",
    "        CF = CF*np.exp(-r(j)(t(j+1) - t(j)))\n",
    "        X = np.array([phi((t(j), SP[i, :(j+1)])) for i in range(m) if Payoff((t(j), SP[i, :(j+1)]))>0])\n",
    "        Y = np.array([CF[i] for i in range(m) if Payoff((t(j), SP[i, :(j+1)]))>0])\n",
    "        w = np.linalg.pinv(X.T @ X) @ X.T @ Y\n",
    "        for i in range(m):\n",
    "            if Payoff((t(j), SP[i, :(j+1)])) > np.dot(w, np.array(phi((t(j), SP[i, :(j+1)])))):\n",
    "                CF[i] = Payoff((t(j), SP[i, :(j+1)]))\n",
    "    \n",
    "    exercise = Payoff((t(0), SP[0, :(0+1)]))\n",
    "    continue_ = np.exp(-r(0)*(t(1) - t(0)))*np.mean(CF)\n",
    "    \n",
    "    return (max(exercise,continue_))\n",
    "\n"
   ]
  },
  {
   "cell_type": "code",
   "execution_count": null,
   "metadata": {},
   "outputs": [],
   "source": []
  }
 ],
 "metadata": {
  "kernelspec": {
   "display_name": "Python 3",
   "language": "python",
   "name": "python3"
  },
  "language_info": {
   "codemirror_mode": {
    "name": "ipython",
    "version": 3
   },
   "file_extension": ".py",
   "mimetype": "text/x-python",
   "name": "python",
   "nbconvert_exporter": "python",
   "pygments_lexer": "ipython3",
   "version": "3.6.5"
  }
 },
 "nbformat": 4,
 "nbformat_minor": 2
}
